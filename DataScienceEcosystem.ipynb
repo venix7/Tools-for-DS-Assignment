{
 "cells": [
  {
   "cell_type": "markdown",
   "id": "517b5a78",
   "metadata": {},
   "source": [
    "# Data Science Tools and Ecosystem"
   ]
  },
  {
   "cell_type": "markdown",
   "id": "94f16728",
   "metadata": {},
   "source": [
    "In this notebook, Data Science Tools and Ecosystem are summarized."
   ]
  },
  {
   "cell_type": "markdown",
   "id": "d6ff3b50",
   "metadata": {},
   "source": [
    "**Objectives:**\n",
    "1. Languages\n",
    "2. Libraries\n",
    "3. Data Science Tools\n",
    "4. Arithmetic Expressions"
   ]
  },
  {
   "cell_type": "markdown",
   "id": "eab2b145",
   "metadata": {},
   "source": [
    "Some of the popular languages that Data Scientists use are:\n",
    "1. Python\n",
    "2. R\n",
    "3. SQL "
   ]
  },
  {
   "cell_type": "markdown",
   "id": "60d25aa6",
   "metadata": {},
   "source": [
    "Some of the commonly used libraries used by Data Scientists include:\n",
    "1. Pandas\n",
    "2. NumPy\n",
    "3. Matplotlib"
   ]
  },
  {
   "cell_type": "markdown",
   "id": "d8eae6b4",
   "metadata": {},
   "source": [
    "| Data Science Tools |\n",
    "|------|\n",
    "| VS Code |\n",
    "| Jupyter Lab |\n",
    "| Spyder |"
   ]
  },
  {
   "cell_type": "markdown",
   "id": "40c7d497",
   "metadata": {},
   "source": [
    "### Below are a few examples of evaluating arithmetic expressions in Python"
   ]
  },
  {
   "cell_type": "code",
   "execution_count": 2,
   "id": "b5675f5a",
   "metadata": {},
   "outputs": [
    {
     "name": "stdout",
     "output_type": "stream",
     "text": [
      "This a simple arithmetic expression to multiply then add integers\n"
     ]
    },
    {
     "data": {
      "text/plain": [
       "17"
      ]
     },
     "execution_count": 2,
     "metadata": {},
     "output_type": "execute_result"
    }
   ],
   "source": [
    "print(\"This a simple arithmetic expression to multiply then add integers\")\n",
    "(3*4)+5"
   ]
  },
  {
   "cell_type": "code",
   "execution_count": 3,
   "id": "127665df",
   "metadata": {},
   "outputs": [
    {
     "name": "stdout",
     "output_type": "stream",
     "text": [
      "This will convert 200 minutes to hours by dividing by 60\n"
     ]
    },
    {
     "data": {
      "text/plain": [
       "3.3333333333333335"
      ]
     },
     "execution_count": 3,
     "metadata": {},
     "output_type": "execute_result"
    }
   ],
   "source": [
    "print(\"This will convert 200 minutes to hours by dividing by 60\")\n",
    "200/60"
   ]
  },
  {
   "cell_type": "markdown",
   "id": "880ea637",
   "metadata": {},
   "source": [
    "## Author\n",
    "Uday Banerjee"
   ]
  }
 ],
 "metadata": {
  "kernelspec": {
   "display_name": "base",
   "language": "python",
   "name": "python3"
  },
  "language_info": {
   "codemirror_mode": {
    "name": "ipython",
    "version": 3
   },
   "file_extension": ".py",
   "mimetype": "text/x-python",
   "name": "python",
   "nbconvert_exporter": "python",
   "pygments_lexer": "ipython3",
   "version": "3.12.4"
  }
 },
 "nbformat": 4,
 "nbformat_minor": 5
}
